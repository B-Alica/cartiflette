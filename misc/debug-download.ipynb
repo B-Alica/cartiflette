{
 "cells": [
  {
   "cell_type": "code",
   "execution_count": 1,
   "metadata": {},
   "outputs": [],
   "source": [
    "from cartiflette.utils import import_yaml_config\n",
    "from cartiflette.config import FS\n",
    "from cartiflette.s3 import upload_s3_raw\n",
    "from cartiflette.download.download import _download_sources\n",
    "from cartiflette.utils import create_path_bucket, official_epsg_codes\n",
    "from cartiflette.config import PATH_WITHIN_BUCKET\n",
    "from cartiflette.utils import hash_file\n",
    "\n",
    "intermediate_dir=\"temp\"\n",
    "path_within_bucket=\"test-clean\"\n",
    "fs=FS\n",
    "provider=\"IGN\"\n",
    "source=\"EXPRESS-COG-CARTO-TERRITOIRE\"\n",
    "year=2022\n",
    "dataset_family=\"ADMINEXPRESS\"\n",
    "territory=\"metropole\"\n",
    "borders=\"COMMUNE\"\n",
    "path_within_bucket=PATH_WITHIN_BUCKET\n",
    "vectorfile_format=\"shp\"\n",
    "bucket=\"projet-cartiflette\""
   ]
  },
  {
   "cell_type": "code",
   "execution_count": 2,
   "metadata": {},
   "outputs": [],
   "source": [
    "local_dir = intermediate_dir\n",
    "format_intermediate = \"geojson\"\n",
    "\n",
    "yaml = import_yaml_config()\n",
    "\n",
    "list_territories = yaml[\"IGN\"][\"ADMINEXPRESS\"][\"EXPRESS-COG-TERRITOIRE\"][\n",
    "        \"territory\"\n",
    "].keys()"
   ]
  },
  {
   "cell_type": "code",
   "execution_count": 3,
   "metadata": {},
   "outputs": [
    {
     "data": {
      "text/plain": [
       "OrderedDict([('sources', ['EXPRESS-COG-CARTO-TERRITOIRE']),\n",
       "             ('territories', ['metropole']),\n",
       "             ('years', [2022]),\n",
       "             ('providers', ['IGN']),\n",
       "             ('dataset_families', ['ADMINEXPRESS'])])"
      ]
     },
     "execution_count": 3,
     "metadata": {},
     "output_type": "execute_result"
    }
   ],
   "source": [
    "    from collections import OrderedDict \n",
    "    kwargs = OrderedDict()\n",
    "    items = [\n",
    "        (\"sources\", source),\n",
    "        (\"territories\", territory),\n",
    "        (\"years\", year),\n",
    "        (\"providers\", provider),\n",
    "        (\"dataset_families\", dataset_family),\n",
    "    ]\n",
    "    for key, val in items:\n",
    "        if isinstance(val, str) or isinstance(val, int):\n",
    "            kwargs[key] = [val]\n",
    "        elif not val:\n",
    "            kwargs[key] = [None]\n",
    "        elif isinstance(val, list) or isinstance(val, tuple) or isinstance(val, set):\n",
    "            kwargs[key] = list(val)\n",
    "    kwargs"
   ]
  },
  {
   "cell_type": "code",
   "execution_count": 4,
   "metadata": {},
   "outputs": [
    {
     "data": {
      "text/plain": [
       "<Dataset IGN ADMINEXPRESS EXPRESS-COG-CARTO-TERRITOIRE metropole 2022>"
      ]
     },
     "execution_count": 4,
     "metadata": {},
     "output_type": "execute_result"
    }
   ],
   "source": [
    "from cartiflette.download.dataset import Dataset\n",
    "\n",
    "datafile = Dataset(\n",
    "                dataset_family,\n",
    "                source,\n",
    "                year,\n",
    "                provider,\n",
    "                territory,\n",
    "                bucket,\n",
    "                path_within_bucket,\n",
    "            )\n",
    "datafile"
   ]
  },
  {
   "cell_type": "code",
   "execution_count": null,
   "metadata": {},
   "outputs": [],
   "source": [
    "from cartiflette.download.scraper import MasterScraper\n",
    "\n",
    "hash = datafile.md5\n",
    "url = datafile.get_path_from_provider()\n",
    "with MasterScraper() as s:\n",
    "    result = s.download_unpack(datafile)"
   ]
  },
  {
   "cell_type": "code",
   "execution_count": null,
   "metadata": {},
   "outputs": [],
   "source": [
    "x = _download_sources(\n",
    "    upload=True,\n",
    "    providers=provider,\n",
    "    dataset_families=dataset_family,\n",
    "    sources=source,\n",
    "    territories=territory,\n",
    "    years=year,\n",
    "    path_within_bucket=path_within_bucket\n",
    ")"
   ]
  },
  {
   "cell_type": "code",
   "execution_count": 5,
   "metadata": {},
   "outputs": [
    {
     "data": {
      "text/plain": [
       "[None]"
      ]
     },
     "execution_count": 5,
     "metadata": {},
     "output_type": "execute_result"
    }
   ],
   "source": [
    "    from cartiflette.utils import DICT_CORRESP_ADMINEXPRESS\n",
    "    from cartiflette.mapshaper import mapshaperize_split\n",
    "\n",
    "    path_raw_s3_combined = create_path_bucket(\n",
    "        {\n",
    "            \"bucket\": bucket,\n",
    "            \"path_within_bucket\": path_within_bucket,\n",
    "            \"year\": year,\n",
    "            \"borders\": \"france\",\n",
    "            \"crs\": 4326,\n",
    "            \"filter_by\": \"preprocessed\",\n",
    "            \"value\": \"before_cog\",\n",
    "            \"vectorfile_format\": \"geojson\",\n",
    "            \"provider\": \"IGN\",\n",
    "            \"dataset_family\": \"ADMINEXPRESS\",\n",
    "            \"source\": \"EXPRESS-COG-CARTO-TERRITOIRE\",\n",
    "            \"territory\": \"france\",\n",
    "            \"filename\": \"raw.geojson\",\n",
    "            \"simplification\": 0,\n",
    "        }\n",
    "    )\n",
    "\n",
    "    fs.download(path_raw_s3_combined, \"temp/preprocessed_combined/COMMUNE.geojson\")"
   ]
  },
  {
   "cell_type": "code",
   "execution_count": 6,
   "metadata": {},
   "outputs": [
    {
     "name": "stderr",
     "output_type": "stream",
     "text": [
      "                                    \r"
     ]
    }
   ],
   "source": [
    "    from cartiflette.pipeline.prepare_cog_metadata import prepare_cog_metadata\n",
    "    localpath = \"temp\"\n",
    "    tagc_metadata = prepare_cog_metadata(\n",
    "            path_within_bucket, local_dir=localpath)\n",
    "    tagc_metadata.drop(columns=[\"LIBGEO\"]).to_csv(f\"{localpath}/tagc.csv\")    \n"
   ]
  },
  {
   "cell_type": "code",
   "execution_count": 8,
   "metadata": {},
   "outputs": [
    {
     "name": "stderr",
     "output_type": "stream",
     "text": [
      "[proj] Source and destination CRS are the same\n",
      "[join] Auto-detected number fields: , REG, ZE2020, TUU2017, TDUU2017, TAAV2017, TDAAV2017, CATEAAV2020\n",
      "[join] Joined data from 34,955 source records to 34,955 target records\n",
      "[o] Wrote toto.geojson\n"
     ]
    },
    {
     "data": {
      "text/plain": [
       "CompletedProcess(args='mapshaper temp/preprocessed_combined/COMMUNE.geojson name=\\'\\' -proj EPSG:4326 -join temp/tagc.csv keys=INSEE_COM,CODGEO field-types=INSEE_COM:str,CODGEO:str -filter-fields INSEE_CAN,INSEE_ARR,SIREN_EPCI,INSEE_DEP,INSEE_REG,NOM_M invert -rename-fields INSEE_DEP=DEP,INSEE_REG=REG -each \"PAYS=\\'France\\'\" -o toto.geojson', returncode=0)"
      ]
     },
     "execution_count": 8,
     "metadata": {},
     "output_type": "execute_result"
    }
   ],
   "source": [
    "    import subprocess\n",
    "    local_dir = \"temp/preprocessed_combined\"\n",
    "    filename_initial = \"COMMUNE\"\n",
    "    extension_initial = \"geojson\"\n",
    "    metadata_file = \"temp/tagc.csv\"\n",
    "    from cartiflette.utils import DICT_CORRESP_ADMINEXPRESS\n",
    "    output_path = \"toto.geojson\"\n",
    "\n",
    "    # Mapshaper command for the enrichment process\n",
    "    cmd_step1 = (\n",
    "        f\"mapshaper {local_dir}/{filename_initial}.{extension_initial} \"\n",
    "        f\"name='' -proj EPSG:4326 \"\n",
    "        f\"-join {metadata_file} \"\n",
    "        f\"keys=INSEE_COM,CODGEO field-types=INSEE_COM:str,CODGEO:str \"\n",
    "        f\"-filter-fields INSEE_CAN,INSEE_ARR,SIREN_EPCI,INSEE_DEP,INSEE_REG,NOM_M invert \"\n",
    "        f\"-rename-fields INSEE_DEP=DEP,INSEE_REG=REG \"\n",
    "        f\"-each \\\"{DICT_CORRESP_ADMINEXPRESS['FRANCE_ENTIERE']}='France'\\\" \"\n",
    "        f\"-o {output_path}\"\n",
    "    )\n",
    "\n",
    "    # Run Mapshaper command\n",
    "    subprocess.run(cmd_step1, shell=True, check=True)"
   ]
  },
  {
   "cell_type": "code",
   "execution_count": null,
   "metadata": {},
   "outputs": [],
   "source": [
    "    simplification_percent = simplification if simplification is not None else 0\n",
    "\n",
    "    # City level borders, file location\n",
    "    directory_city = config_file_city.get(\"location\", local_dir)\n",
    "    initial_filename_city = config_file_city.get(\"filename\", \"COMMUNE\")\n",
    "    extension_initial_city = config_file_city.get(\"extension\", \"shp\")\n",
    "\n",
    "    output_path = (\n",
    "        f\"{local_dir}/{territory}/{niveau_agreg}/{format_output}/{simplification=}\"\n",
    "    )\n",
    "\n",
    "    os.makedirs(output_path, exist_ok=True)\n",
    "\n",
    "    if simplification_percent != 0:\n",
    "        option_simplify = f\"-simplify {simplification_percent}% \"\n",
    "    else:\n",
    "        option_simplify = \"\"\n",
    "\n",
    "    temp_filename = \"temp.geojson\"\n",
    "\n",
    "    # STEP 1: ENRICHISSEMENT AVEC COG\n",
    "    mapshaper_enrich(\n",
    "        local_dir=directory_city,\n",
    "        filename_initial=initial_filename_city,\n",
    "        extension_initial=extension_initial_city,\n",
    "        dict_corresp=dict_corresp,\n",
    "        output_path=temp_filename,\n",
    "    )\n",
    "\n",
    "    if niveau_polygons != initial_filename_city:\n",
    "        csv_list_vars = (\n",
    "            f\"{dict_corresp[niveau_polygons]},\" f\"{dict_corresp[niveau_agreg]}\"\n"
   ]
  }
 ],
 "metadata": {
  "kernelspec": {
   "display_name": "base",
   "language": "python",
   "name": "python3"
  },
  "language_info": {
   "codemirror_mode": {
    "name": "ipython",
    "version": 3
   },
   "file_extension": ".py",
   "mimetype": "text/x-python",
   "name": "python",
   "nbconvert_exporter": "python",
   "pygments_lexer": "ipython3",
   "version": "3.11.6"
  }
 },
 "nbformat": 4,
 "nbformat_minor": 2
}
